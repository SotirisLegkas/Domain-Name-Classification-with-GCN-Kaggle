{
  "cells": [
    {
      "cell_type": "markdown",
      "metadata": {
        "id": "Tw0T7jqRCg8R"
      },
      "source": [
        "### Data Challenge 2022\n",
        "## Team \n",
        "Gkountoumas Filippos <br>\n",
        "Legkas Sotiris <br>\n",
        "Papadopoulos Nikolaos\n",
        "\n"
      ]
    },
    {
      "cell_type": "markdown",
      "metadata": {
        "id": "yLuf11ohHoiK"
      },
      "source": [
        "#### Imports/Installs"
      ]
    },
    {
      "cell_type": "code",
      "execution_count": null,
      "metadata": {
        "id": "-pj3ABuPNjGa"
      },
      "outputs": [],
      "source": [
        "#Library Installs\n",
        "%matplotlib inline\n",
        "!pip install -q gdown\n",
        "!pip install -q unidecode\n",
        "!pip install -q stellargraph\n",
        "\n",
        "#Library Imports\n",
        "import re\n",
        "import os\n",
        "import csv\n",
        "import gzip\n",
        "import io\n",
        "import nltk \n",
        "from nltk.corpus import stopwords \n",
        "from nltk.tokenize import word_tokenize \n",
        "import math\n",
        "import time\n",
        "import nltk\n",
        "import pickle\n",
        "import zipfile\n",
        "import requests\n",
        "import warnings\n",
        "import unidecode\n",
        "import numpy as np\n",
        "import unicodedata\n",
        "import pandas as pd\n",
        "import networkx as nx\n",
        "import seaborn as sns\n",
        "import urllib.request\n",
        "from io import BytesIO\n",
        "import tensorflow as tf\n",
        "import stellargraph as sg\n",
        "import scipy.sparse as sp\n",
        "from tensorflow import keras\n",
        "from keras.layers import LSTM\n",
        "from sklearn.metrics import auc\n",
        "import matplotlib.pyplot as plt\n",
        "from nltk.corpus import stopwords\n",
        "from sklearn.manifold import TSNE\n",
        "warnings.filterwarnings(\"ignore\")\n",
        "from stellargraph.layer import GCN\n",
        "from tensorflow.keras import Model\n",
        "from sklearn.metrics import f1_score\n",
        "from nltk import WhitespaceTokenizer\n",
        "import tensorflow.keras.backend as K\n",
        "from stellargraph import StellarGraph\n",
        "from nltk.stem import WordNetLemmatizer\n",
        "from stellargraph.layer import GraphSAGE\n",
        "from sklearn.dummy import DummyClassifier\n",
        "from IPython.display import display, HTML\n",
        "from sklearn.metrics import roc_auc_score\n",
        "from tensorflow.keras.optimizers import Adam\n",
        "from tensorflow.keras.models import Sequential\n",
        "from stellargraph.data import BiasedRandomWalk\n",
        "from sklearn.metrics import mean_squared_error\n",
        "from sklearn.metrics import mean_absolute_error\n",
        "from sklearn.model_selection import GridSearchCV\n",
        "from tensorflow.keras.layers import Dense, Dropout\n",
        "from sklearn.metrics import precision_recall_curve\n",
        "from sklearn import preprocessing, model_selection\n",
        "from sklearn.linear_model import LogisticRegression\n",
        "from sklearn.model_selection import PredefinedSplit\n",
        "from sklearn.decomposition import PCA, TruncatedSVD\n",
        "from sklearn.model_selection import train_test_split\n",
        "from stellargraph.mapper import FullBatchNodeGenerator\n",
        "from tensorflow.keras.callbacks import ModelCheckpoint\n",
        "from keras.wrappers.scikit_learn import KerasClassifier\n",
        "from gensim.models.doc2vec import Doc2Vec, TaggedDocument\n",
        "from sklearn.feature_selection import mutual_info_classif\n",
        "from sklearn.model_selection import cross_val_score, KFold\n",
        "from sklearn.feature_extraction.text import TfidfVectorizer\n",
        "from tensorflow.keras.callbacks import ModelCheckpoint,EarlyStopping\n",
        "from tensorflow.keras import layers, optimizers, losses, metrics, Model\n",
        "from tensorflow.keras.layers import Dense, Dropout, Bidirectional, GRU, Embedding\n",
        "from tensorflow.keras.layers import Dense, Dropout, Bidirectional, LSTM, Embedding, Input\n",
        "from sklearn.metrics import f1_score, accuracy_score,confusion_matrix,classification_report,plot_confusion_matrix, recall_score, precision_score"
      ]
    },
    {
      "cell_type": "code",
      "execution_count": null,
      "metadata": {
        "colab": {
          "base_uri": "https://localhost:8080/"
        },
        "id": "f_SPKvUVIxF5",
        "outputId": "7269d749-938a-4722-d026-d73ad181268a"
      },
      "outputs": [
        {
          "name": "stdout",
          "output_type": "stream",
          "text": [
            "Drive already mounted at /content/drive; to attempt to forcibly remount, call drive.mount(\"/content/drive\", force_remount=True).\n"
          ]
        },
        {
          "data": {
            "text/plain": [
              "['.config',\n",
              " 'test.txt',\n",
              " 'domains.zip',\n",
              " 'node_embeddings.csv',\n",
              " 'edgelist.txt',\n",
              " 'DataStemmed.csv',\n",
              " 'train.txt',\n",
              " 'drive',\n",
              " 'sample_data']"
            ]
          },
          "execution_count": 2,
          "metadata": {},
          "output_type": "execute_result"
        }
      ],
      "source": [
        "from google.colab import drive\n",
        "drive.mount('/content/drive')\n",
        "\n",
        "os.chdir(\"./\")\n",
        "os.listdir()"
      ]
    },
    {
      "cell_type": "code",
      "execution_count": null,
      "metadata": {
        "colab": {
          "base_uri": "https://localhost:8080/"
        },
        "id": "0QQ0W_fAN2TR",
        "outputId": "a684a985-7df4-4bc8-e0e7-5a772be5ceee"
      },
      "outputs": [
        {
          "name": "stdout",
          "output_type": "stream",
          "text": [
            "Downloading...\n",
            "From: https://drive.google.com/uc?id=1yHyHl5D5PAC3J05xFYFk6wGsLfs-4jat\n",
            "To: /content/train.txt\n",
            "100% 19.6k/19.6k [00:00<00:00, 19.1MB/s]\n",
            "Downloading...\n",
            "From: https://drive.google.com/uc?id=162aSfvFARsaI06FAZWiquk3f5RhN-dRM\n",
            "To: /content/test.txt\n",
            "100% 7.83k/7.83k [00:00<00:00, 6.37MB/s]\n",
            "Downloading...\n",
            "From: https://drive.google.com/uc?id=1f2kn380eOWeNVYQDN1XjRddT-StbO3Yk\n",
            "To: /content/domains.zip\n",
            "100% 831M/831M [00:05<00:00, 145MB/s]\n",
            "Downloading...\n",
            "From: https://drive.google.com/uc?id=19vPYOi89bMOMYQEByU92Ehw2qdSpIOdp\n",
            "To: /content/edgelist.txt\n",
            "100% 53.3M/53.3M [00:00<00:00, 70.2MB/s]\n",
            "Downloading...\n",
            "From: https://drive.google.com/uc?id=1cXoUzx0v8Pvrrw6Zx461bOxVTkmCKLoG\n",
            "To: /content/node_embeddings.csv\n",
            "100% 250M/250M [00:02<00:00, 101MB/s]\n",
            "Downloading...\n",
            "From: https://drive.google.com/uc?id=1gxr_CBf_Gw6G2_Cbp7dqo26lXWpZE6yb\n",
            "To: /content/DataStemmed.csv\n",
            "100% 1.55G/1.55G [00:14<00:00, 108MB/s] \n"
          ]
        }
      ],
      "source": [
        "#We've saved the pre-processed text so we don't have to run it every time as it takes a long time.We download the files from google drive then implement them to our code\n",
        "\n",
        "!gdown 1yHyHl5D5PAC3J05xFYFk6wGsLfs-4jat\n",
        "!gdown 162aSfvFARsaI06FAZWiquk3f5RhN-dRM\n",
        "!gdown 1f2kn380eOWeNVYQDN1XjRddT-StbO3Yk\n",
        "!gdown 19vPYOi89bMOMYQEByU92Ehw2qdSpIOdp\n",
        "!gdown 1cXoUzx0v8Pvrrw6Zx461bOxVTkmCKLoG\n",
        "!gdown 1gxr_CBf_Gw6G2_Cbp7dqo26lXWpZE6yb"
      ]
    },
    {
      "cell_type": "markdown",
      "metadata": {
        "id": "5sVOs6wPGQ96"
      },
      "source": [
        "#### Setting up our Data"
      ]
    },
    {
      "cell_type": "code",
      "execution_count": null,
      "metadata": {
        "id": "5vBEIIn3OAJd"
      },
      "outputs": [],
      "source": [
        "# Read training data\n",
        "train_domains = list()\n",
        "y_train = list()\n",
        "with open(\"/content/drive/MyDrive/DataChallenge/train.txt\", 'r') as f:\n",
        "    for line in f:\n",
        "        l = line.split(',')\n",
        "        train_domains.append(l[0])\n",
        "        y_train.append(l[1][:-1])\n",
        "\n",
        "# Read test data\n",
        "test_domains = list()\n",
        "with open(\"/content/drive/MyDrive/DataChallenge/test.txt\", 'r') as f:\n",
        "    for line in f:\n",
        "        l = line.split(',')\n",
        "        test_domains.append(l[0])"
      ]
    },
    {
      "cell_type": "code",
      "execution_count": null,
      "metadata": {
        "id": "BHzSERscEUko"
      },
      "outputs": [],
      "source": [
        "#Create Source-Target dataframe needed from edgelist.txt\n",
        "dfgraph = pd.read_csv('/content/drive/MyDrive/DataChallenge/edgelist.txt',delimiter=' ',header=None,names=[\"source\",\"target\"])"
      ]
    },
    {
      "cell_type": "code",
      "execution_count": null,
      "metadata": {
        "id": "UAfVpb98EZLu"
      },
      "outputs": [],
      "source": [
        "# Create a directed graph to read the files below\n",
        "G = nx.read_edgelist('/content/drive/MyDrive/DataChallenge/edgelist.txt', delimiter=' ', create_using=nx.DiGraph())\n",
        "node_to_idx = dict()\n",
        "for i, node in enumerate(G.nodes()):\n",
        "    node_to_idx[node] = i"
      ]
    },
    {
      "cell_type": "code",
      "execution_count": null,
      "metadata": {
        "id": "QTzPSmwXEeum"
      },
      "outputs": [],
      "source": [
        "# Read textual content of webpages of domain names\n",
        "text = dict()\n",
        "with zipfile.ZipFile('/content/drive/MyDrive/DataChallenge/domains.zip', \"r\") as zfile:\n",
        "    for filename in zfile.namelist():\n",
        "        if re.search(r'\\.zip$', filename) is not None:\n",
        "            zfiledata = BytesIO(zfile.read(filename))\n",
        "            with zipfile.ZipFile(zfiledata) as zfile2:\n",
        "                text[filename[:-4]] = ''\n",
        "                for name2 in zfile2.namelist():\n",
        "                    file = zfile2.read(name2)\n",
        "                    text[filename[:-4]] += file.decode('utf16') + ' '\n",
        "\n",
        "idx = [node_to_idx[domain] for domain in text]\n",
        "datas = [text[domain] for domain in text] # datas not data"
      ]
    },
    {
      "cell_type": "code",
      "execution_count": null,
      "metadata": {
        "id": "pPrQ6kTyEhB1"
      },
      "outputs": [],
      "source": [
        "sites=[domain for domain in text]\n",
        "#sites not in train or test\n",
        "random_sites=[]\n",
        "for i in sites:\n",
        "    if i not in test_domains and i not in train_domains:\n",
        "      #Gathering up every website that has text but that is not in test or train\n",
        "        random_sites.append(i)"
      ]
    },
    {
      "cell_type": "code",
      "execution_count": null,
      "metadata": {
        "id": "ITU-hxtvE6Jg"
      },
      "outputs": [],
      "source": [
        "# Create a dictionary that maps train and test domains to their textual content\n",
        "# Domains for which no textual content is available are mapped to some special string\n",
        "text_data = dict()\n",
        "\n",
        "for domain in train_domains:\n",
        "    if domain in text:\n",
        "        text_data[domain] = text[domain]\n",
        "    else:\n",
        "        text_data[domain] = 'no_str'\n",
        "\n",
        "for domain in test_domains:\n",
        "    if domain in text:\n",
        "        text_data[domain] = text[domain]\n",
        "    else:\n",
        "        text_data[domain] = 'no_str'"
      ]
    },
    {
      "cell_type": "code",
      "execution_count": null,
      "metadata": {
        "id": "4oWafoZsPzim"
      },
      "outputs": [],
      "source": [
        "# Create a dictionary that maps the extra domains to their textual content\n",
        "random_text = dict()\n",
        "for domain in random_sites:\n",
        "        random_text[domain] = text[domain]"
      ]
    },
    {
      "cell_type": "code",
      "execution_count": null,
      "metadata": {
        "id": "Wvl6GuzkE6sZ"
      },
      "outputs": [],
      "source": [
        "#Collecting all text\n",
        "test_text = []\n",
        "for i in range(len(test_domains)):\n",
        "  test_text.append(text_data[test_domains[i]])"
      ]
    },
    {
      "cell_type": "code",
      "execution_count": null,
      "metadata": {
        "id": "gVJWU3VoE6ul"
      },
      "outputs": [],
      "source": [
        "#Collecting all text\n",
        "extra_text = []\n",
        "for i in range(len(random_sites)):\n",
        "  extra_text.append(random_text[random_sites[i]])"
      ]
    },
    {
      "cell_type": "code",
      "execution_count": null,
      "metadata": {
        "colab": {
          "base_uri": "https://localhost:8080/",
          "height": 390
        },
        "id": "lREs5PONE-M7",
        "outputId": "b4d7b888-85f0-482f-ed1f-d734c146a636"
      },
      "outputs": [
        {
          "ename": "ValueError",
          "evalue": "ignored",
          "output_type": "error",
          "traceback": [
            "\u001b[0;31m---------------------------------------------------------------------------\u001b[0m",
            "\u001b[0;31mValueError\u001b[0m                                Traceback (most recent call last)",
            "\u001b[0;32m<ipython-input-13-ec02c7efd12c>\u001b[0m in \u001b[0;36m<module>\u001b[0;34m()\u001b[0m\n\u001b[1;32m      2\u001b[0m \u001b[0mnewdf\u001b[0m \u001b[0;34m=\u001b[0m \u001b[0mpd\u001b[0m\u001b[0;34m.\u001b[0m\u001b[0mDataFrame\u001b[0m\u001b[0;34m(\u001b[0m\u001b[0;34m)\u001b[0m\u001b[0;34m\u001b[0m\u001b[0;34m\u001b[0m\u001b[0m\n\u001b[1;32m      3\u001b[0m \u001b[0mnewdf\u001b[0m\u001b[0;34m[\u001b[0m\u001b[0;34m\"site\"\u001b[0m\u001b[0;34m]\u001b[0m \u001b[0;34m=\u001b[0m \u001b[0mtrain_domains\u001b[0m\u001b[0;34m\u001b[0m\u001b[0;34m\u001b[0m\u001b[0m\n\u001b[0;32m----> 4\u001b[0;31m \u001b[0mnewdf\u001b[0m\u001b[0;34m[\u001b[0m\u001b[0;34m\"text\"\u001b[0m\u001b[0;34m]\u001b[0m \u001b[0;34m=\u001b[0m \u001b[0mtext\u001b[0m\u001b[0;34m\u001b[0m\u001b[0;34m\u001b[0m\u001b[0m\n\u001b[0m\u001b[1;32m      5\u001b[0m \u001b[0mnewdf\u001b[0m\u001b[0;34m[\u001b[0m\u001b[0;34m\"category\"\u001b[0m\u001b[0;34m]\u001b[0m \u001b[0;34m=\u001b[0m \u001b[0my_train\u001b[0m\u001b[0;34m\u001b[0m\u001b[0;34m\u001b[0m\u001b[0m\n\u001b[1;32m      6\u001b[0m \u001b[0mnewdf\u001b[0m\u001b[0;34m\u001b[0m\u001b[0;34m\u001b[0m\u001b[0m\n",
            "\u001b[0;32m/usr/local/lib/python3.7/dist-packages/pandas/core/frame.py\u001b[0m in \u001b[0;36m__setitem__\u001b[0;34m(self, key, value)\u001b[0m\n\u001b[1;32m   3610\u001b[0m         \u001b[0;32melse\u001b[0m\u001b[0;34m:\u001b[0m\u001b[0;34m\u001b[0m\u001b[0;34m\u001b[0m\u001b[0m\n\u001b[1;32m   3611\u001b[0m             \u001b[0;31m# set column\u001b[0m\u001b[0;34m\u001b[0m\u001b[0;34m\u001b[0m\u001b[0;34m\u001b[0m\u001b[0m\n\u001b[0;32m-> 3612\u001b[0;31m             \u001b[0mself\u001b[0m\u001b[0;34m.\u001b[0m\u001b[0m_set_item\u001b[0m\u001b[0;34m(\u001b[0m\u001b[0mkey\u001b[0m\u001b[0;34m,\u001b[0m \u001b[0mvalue\u001b[0m\u001b[0;34m)\u001b[0m\u001b[0;34m\u001b[0m\u001b[0;34m\u001b[0m\u001b[0m\n\u001b[0m\u001b[1;32m   3613\u001b[0m \u001b[0;34m\u001b[0m\u001b[0m\n\u001b[1;32m   3614\u001b[0m     \u001b[0;32mdef\u001b[0m \u001b[0m_setitem_slice\u001b[0m\u001b[0;34m(\u001b[0m\u001b[0mself\u001b[0m\u001b[0;34m,\u001b[0m \u001b[0mkey\u001b[0m\u001b[0;34m:\u001b[0m \u001b[0mslice\u001b[0m\u001b[0;34m,\u001b[0m \u001b[0mvalue\u001b[0m\u001b[0;34m)\u001b[0m\u001b[0;34m:\u001b[0m\u001b[0;34m\u001b[0m\u001b[0;34m\u001b[0m\u001b[0m\n",
            "\u001b[0;32m/usr/local/lib/python3.7/dist-packages/pandas/core/frame.py\u001b[0m in \u001b[0;36m_set_item\u001b[0;34m(self, key, value)\u001b[0m\n\u001b[1;32m   3782\u001b[0m         \u001b[0mensure\u001b[0m \u001b[0mhomogeneity\u001b[0m\u001b[0;34m.\u001b[0m\u001b[0;34m\u001b[0m\u001b[0;34m\u001b[0m\u001b[0m\n\u001b[1;32m   3783\u001b[0m         \"\"\"\n\u001b[0;32m-> 3784\u001b[0;31m         \u001b[0mvalue\u001b[0m \u001b[0;34m=\u001b[0m \u001b[0mself\u001b[0m\u001b[0;34m.\u001b[0m\u001b[0m_sanitize_column\u001b[0m\u001b[0;34m(\u001b[0m\u001b[0mvalue\u001b[0m\u001b[0;34m)\u001b[0m\u001b[0;34m\u001b[0m\u001b[0;34m\u001b[0m\u001b[0m\n\u001b[0m\u001b[1;32m   3785\u001b[0m \u001b[0;34m\u001b[0m\u001b[0m\n\u001b[1;32m   3786\u001b[0m         if (\n",
            "\u001b[0;32m/usr/local/lib/python3.7/dist-packages/pandas/core/frame.py\u001b[0m in \u001b[0;36m_sanitize_column\u001b[0;34m(self, value)\u001b[0m\n\u001b[1;32m   4507\u001b[0m \u001b[0;34m\u001b[0m\u001b[0m\n\u001b[1;32m   4508\u001b[0m         \u001b[0;32mif\u001b[0m \u001b[0mis_list_like\u001b[0m\u001b[0;34m(\u001b[0m\u001b[0mvalue\u001b[0m\u001b[0;34m)\u001b[0m\u001b[0;34m:\u001b[0m\u001b[0;34m\u001b[0m\u001b[0;34m\u001b[0m\u001b[0m\n\u001b[0;32m-> 4509\u001b[0;31m             \u001b[0mcom\u001b[0m\u001b[0;34m.\u001b[0m\u001b[0mrequire_length_match\u001b[0m\u001b[0;34m(\u001b[0m\u001b[0mvalue\u001b[0m\u001b[0;34m,\u001b[0m \u001b[0mself\u001b[0m\u001b[0;34m.\u001b[0m\u001b[0mindex\u001b[0m\u001b[0;34m)\u001b[0m\u001b[0;34m\u001b[0m\u001b[0;34m\u001b[0m\u001b[0m\n\u001b[0m\u001b[1;32m   4510\u001b[0m         \u001b[0;32mreturn\u001b[0m \u001b[0msanitize_array\u001b[0m\u001b[0;34m(\u001b[0m\u001b[0mvalue\u001b[0m\u001b[0;34m,\u001b[0m \u001b[0mself\u001b[0m\u001b[0;34m.\u001b[0m\u001b[0mindex\u001b[0m\u001b[0;34m,\u001b[0m \u001b[0mcopy\u001b[0m\u001b[0;34m=\u001b[0m\u001b[0;32mTrue\u001b[0m\u001b[0;34m,\u001b[0m \u001b[0mallow_2d\u001b[0m\u001b[0;34m=\u001b[0m\u001b[0;32mTrue\u001b[0m\u001b[0;34m)\u001b[0m\u001b[0;34m\u001b[0m\u001b[0;34m\u001b[0m\u001b[0m\n\u001b[1;32m   4511\u001b[0m \u001b[0;34m\u001b[0m\u001b[0m\n",
            "\u001b[0;32m/usr/local/lib/python3.7/dist-packages/pandas/core/common.py\u001b[0m in \u001b[0;36mrequire_length_match\u001b[0;34m(data, index)\u001b[0m\n\u001b[1;32m    530\u001b[0m     \u001b[0;32mif\u001b[0m \u001b[0mlen\u001b[0m\u001b[0;34m(\u001b[0m\u001b[0mdata\u001b[0m\u001b[0;34m)\u001b[0m \u001b[0;34m!=\u001b[0m \u001b[0mlen\u001b[0m\u001b[0;34m(\u001b[0m\u001b[0mindex\u001b[0m\u001b[0;34m)\u001b[0m\u001b[0;34m:\u001b[0m\u001b[0;34m\u001b[0m\u001b[0;34m\u001b[0m\u001b[0m\n\u001b[1;32m    531\u001b[0m         raise ValueError(\n\u001b[0;32m--> 532\u001b[0;31m             \u001b[0;34m\"Length of values \"\u001b[0m\u001b[0;34m\u001b[0m\u001b[0;34m\u001b[0m\u001b[0m\n\u001b[0m\u001b[1;32m    533\u001b[0m             \u001b[0;34mf\"({len(data)}) \"\u001b[0m\u001b[0;34m\u001b[0m\u001b[0;34m\u001b[0m\u001b[0m\n\u001b[1;32m    534\u001b[0m             \u001b[0;34m\"does not match length of index \"\u001b[0m\u001b[0;34m\u001b[0m\u001b[0;34m\u001b[0m\u001b[0m\n",
            "\u001b[0;31mValueError\u001b[0m: Length of values (40600) does not match length of index (1258)"
          ]
        }
      ],
      "source": [
        "#Creating a dataframe containing all training data\n",
        "newdf = pd.DataFrame()\n",
        "newdf[\"site\"] = train_domains\n",
        "newdf[\"text\"] = text\n",
        "newdf[\"category\"] = y_train\n",
        "newdf"
      ]
    },
    {
      "cell_type": "code",
      "execution_count": null,
      "metadata": {
        "id": "cv0TyWZaE-O_"
      },
      "outputs": [],
      "source": [
        "newdftest=pd.DataFrame()"
      ]
    },
    {
      "cell_type": "code",
      "execution_count": null,
      "metadata": {
        "id": "rBNz6GdFE-RL"
      },
      "outputs": [],
      "source": [
        "#Creating a dataframe containing all test data\n",
        "newdftest[\"site\"] = test_domains\n",
        "newdftest[\"text\"] = test_text"
      ]
    },
    {
      "cell_type": "code",
      "execution_count": null,
      "metadata": {
        "id": "85_eyoQGFCIt"
      },
      "outputs": [],
      "source": [
        "#Concatenating the above two dataframes\n",
        "newdftest = pd.concat([newdf,newdftest], axis=0).reset_index(drop=True)"
      ]
    },
    {
      "cell_type": "code",
      "execution_count": null,
      "metadata": {
        "id": "6y7dHKm_FCM6"
      },
      "outputs": [],
      "source": [
        "#Creating a dataframe containing all the extra website text\n",
        "newdfextra=pd.DataFrame()\n",
        "newdfextra[\"site\"] = random_sites\n",
        "newdfextra[\"text\"] = extra_text"
      ]
    },
    {
      "cell_type": "code",
      "execution_count": null,
      "metadata": {
        "id": "i0g-CpJzFCO_"
      },
      "outputs": [],
      "source": [
        "#Concatenating them with our previous dataframe\n",
        "newdftest = pd.concat([newdftest,newdfextra], axis=0).reset_index(drop=True)"
      ]
    },
    {
      "cell_type": "code",
      "execution_count": null,
      "metadata": {
        "id": "5jH3V-cDFFbs"
      },
      "outputs": [],
      "source": [
        "#Filling na values\n",
        "newdftest.fillna('no_str', inplace=True)"
      ]
    },
    {
      "cell_type": "code",
      "execution_count": null,
      "metadata": {
        "id": "f5UIeGPHFFdt"
      },
      "outputs": [],
      "source": [
        "#Checking that everything is fine\n",
        "newdftest"
      ]
    },
    {
      "cell_type": "code",
      "execution_count": null,
      "metadata": {
        "id": "jQwH2PcRQlqU"
      },
      "outputs": [],
      "source": [
        "#To reduce memory \n",
        "text = None"
      ]
    },
    {
      "cell_type": "markdown",
      "metadata": {
        "id": "NMHJmXQiJhcO"
      },
      "source": [
        "#### Pre-processing Text Procedure"
      ]
    },
    {
      "cell_type": "code",
      "execution_count": null,
      "metadata": {
        "id": "Cz1r78i7FFf3"
      },
      "outputs": [],
      "source": [
        "#Init lemmatizer\n",
        "lemmzer = WordNetLemmatizer() \n",
        "def prep_lowercase(s): \n",
        "    return s.lower()"
      ]
    },
    {
      "cell_type": "code",
      "execution_count": null,
      "metadata": {
        "colab": {
          "base_uri": "https://localhost:8080/"
        },
        "id": "KPOCZP45FFh1",
        "outputId": "d681b1d0-a1b9-4dd0-c11c-da396abc893d"
      },
      "outputs": [
        {
          "name": "stdout",
          "output_type": "stream",
          "text": [
            "[nltk_data] Downloading package punkt to /root/nltk_data...\n",
            "[nltk_data]   Package punkt is already up-to-date!\n",
            "[nltk_data] Downloading package stopwords to /root/nltk_data...\n",
            "[nltk_data]   Package stopwords is already up-to-date!\n"
          ]
        }
      ],
      "source": [
        "#Downloading Stopwords & Dictionary\n",
        "nltk.download('punkt')\n",
        "nltk.download('stopwords')\n",
        "stop_words = set(stopwords.words('greek')) \n",
        "\n",
        "\n",
        "def stop_word_func(x):\n",
        "    filtered_sentence = []\n",
        "    for w in word_tokenize(x):\n",
        "          if w not in stop_words:\n",
        "                  filtered_sentence.append(w)\n",
        "\n",
        "    return filtered_sentence"
      ]
    },
    {
      "cell_type": "code",
      "execution_count": null,
      "metadata": {
        "id": "hC5yEsHVFJ8e"
      },
      "outputs": [],
      "source": [
        "# #Stemmer\n",
        "# !pip install -q greek-stemmer-pos\n",
        "# from greek_stemmer import stemmer"
      ]
    },
    {
      "cell_type": "code",
      "execution_count": null,
      "metadata": {
        "id": "sHw2rsUdFJ_J"
      },
      "outputs": [],
      "source": [
        "#Preprocessing Function\n",
        "def prep(corpus):\n",
        "    corpus= corpus.apply(lambda x:re.sub(r'http\\S+', '', x))#Remove html tags\n",
        "    corpus= corpus.apply(lambda x:re.sub(r'<.*?>', ' ', x)) #Remove punctuation\n",
        "    corpus= corpus.apply(lambda x:re.sub('\\d+', ' ', x)) #Remove numbers\n",
        "    return corpus"
      ]
    },
    {
      "cell_type": "code",
      "execution_count": null,
      "metadata": {
        "id": "1uwOY2X1FKEG"
      },
      "outputs": [],
      "source": [
        "def prep2(corpus):\n",
        "    corpus = corpus.apply(lambda x:prep_lowercase(x))#Lowercase Data\n",
        "    corpus = corpus.apply(lambda x:stop_word_func(x))#Filter out Stopwords\n",
        "    return corpus"
      ]
    },
    {
      "cell_type": "code",
      "execution_count": null,
      "metadata": {
        "id": "eJNEmRttFKGT"
      },
      "outputs": [],
      "source": [
        "def prep3(corpus):\n",
        "        corpus= corpus.apply(lambda x:re.sub(r'\\b[α-ω]{1,3}\\b', '', x)) # remove words three letters and below\n",
        "        corpus= corpus.apply(lambda x: re.sub(r'\\W', ' ', str(x))) #Remove any symbols\n",
        "        corpus= corpus.apply(lambda x:re.sub(r'\\s+', ' ',x)) #Remove multiple spaces\n",
        "        return corpus"
      ]
    },
    {
      "cell_type": "code",
      "execution_count": null,
      "metadata": {
        "id": "J7-8FcK_FXok"
      },
      "outputs": [],
      "source": [
        "def prep4 (corpus):\n",
        "    corpus= corpus.apply(lambda x:[stemmer.stem_word(word, 'VBG') for word in x.split()]) #Stemming\n",
        "    return corpus "
      ]
    },
    {
      "cell_type": "code",
      "execution_count": null,
      "metadata": {
        "id": "Sca7tvMwFYnA"
      },
      "outputs": [],
      "source": [
        "def prep5 (corpus):\n",
        "    corpus= corpus.apply(lambda x:' '.join(x)) #Re-forming the previously split sentences\n",
        "    corpus= corpus.apply(lambda x:re.sub(r'\\b[α-ω]{1,2}\\b', '', x)) #Remove words that are two letters or less which were created from Stemming\n",
        "    return corpus "
      ]
    },
    {
      "cell_type": "code",
      "execution_count": null,
      "metadata": {
        "id": "Ar1gq-HIF2S2"
      },
      "outputs": [],
      "source": [
        "X_train.text =prep1(X_train.text)\n",
        "X_train.text =prep2(X_train.text)\n",
        "X_train.text =prep3(X_train.text)\n",
        "X_train.text =prep4(X_train.text)\n",
        "X_train.text = prep5(X_train.text)"
      ]
    },
    {
      "cell_type": "markdown",
      "metadata": {
        "id": "2rIV8pN7KMRW"
      },
      "source": [
        "#### Getting final text dataframe"
      ]
    },
    {
      "cell_type": "code",
      "execution_count": null,
      "metadata": {
        "id": "7HfxN6neIdjN"
      },
      "outputs": [],
      "source": [
        "#Reading final dataframe from the google drive\n",
        "X_train = pd.read_csv('/content/drive/MyDrive/DataChallenge/DataStemmed.csv')"
      ]
    },
    {
      "cell_type": "code",
      "execution_count": null,
      "metadata": {
        "id": "Gg6ibUJ6IdlL"
      },
      "outputs": [],
      "source": [
        "#Dropping a column and fillina na values\n",
        "X_train = X_train.drop(['Unnamed: 0'],axis=1)\n",
        "X_train.text = X_train.text.fillna('no_str')"
      ]
    },
    {
      "cell_type": "code",
      "execution_count": null,
      "metadata": {
        "id": "x9nLWTw-Ihcj"
      },
      "outputs": [],
      "source": [
        "#We've decided to keep a certain number of words per text\n",
        "for i in range(len(X_train.text)):\n",
        "  if len(X_train.text[i].split())>3000:\n",
        "    X_train.text[i]=' '.join(X_train.text[i].split()[:3000])"
      ]
    },
    {
      "cell_type": "markdown",
      "metadata": {
        "id": "Apbg0JFvafm3"
      },
      "source": [
        "#### Word Embeddings+SVD"
      ]
    },
    {
      "cell_type": "code",
      "execution_count": null,
      "metadata": {
        "id": "sV0WU-wqaPFf"
      },
      "outputs": [],
      "source": [
        "# #Download and get stopwords\n",
        "# !wget -nc http://archive.aueb.gr:8085/files/stopwords.txt\n",
        "# f = open(\"stopwords.txt\", \"r\")\n",
        "# stopwords=[]\n",
        "# while(True):\n",
        "# \t#read next line\n",
        "# \tline = f.readline()\n",
        "# \t#if line is empty, you are done with all lines in the file\n",
        "# \tif not line:\n",
        "# \t\tbreak\n",
        "# \t#you can access the line\n",
        "# \tstopwords.append(line.strip())\n",
        "\n",
        "# #close file\n",
        "# f.close"
      ]
    },
    {
      "cell_type": "code",
      "execution_count": null,
      "metadata": {
        "id": "LEfgZKnYaPIK"
      },
      "outputs": [],
      "source": [
        "# #Vocabulary Size based on min and and max frequency of each word\n",
        "# vectorizer = TfidfVectorizer( \n",
        "#     sublinear_tf = True,\n",
        "#     min_df=100,max_df=300,\n",
        "#     stop_words=stopwords\n",
        "#     )"
      ]
    },
    {
      "cell_type": "code",
      "execution_count": null,
      "metadata": {
        "id": "6LQy-evHaPKX"
      },
      "outputs": [],
      "source": [
        "# #Transforming all text datasets\n",
        "# x_train_tfidf = vectorizer.fit_transform(X_train.text)\n",
        "\n",
        "# # get_feauture_names() for vocabulary\n",
        "# names=vectorizer.get_feature_names()"
      ]
    },
    {
      "cell_type": "code",
      "execution_count": null,
      "metadata": {
        "id": "zlm-tYnAaPMS"
      },
      "outputs": [],
      "source": [
        "# x_train_tfidf=None\n",
        "# vectorizer=None\n",
        "\n",
        "# #Print size of vocabulary\n",
        "# print(len(names))"
      ]
    },
    {
      "cell_type": "code",
      "execution_count": null,
      "metadata": {
        "id": "Ta56js9oaPOZ"
      },
      "outputs": [],
      "source": [
        "# #Keep from only from text the words in the vocabulary\n",
        "# text_final=[]\n",
        "# for i in range(len(X_train.text)):\n",
        "#   temp=[]\n",
        "#   print(i)\n",
        "#   for j in range(len(X_train.text[i].split())):\n",
        "#     if X_train.text[i].split()[j] in names:\n",
        "#       temp.append(X_train.text[i].split()[j])\n",
        "#   text_final.append(' '.join(temp))"
      ]
    },
    {
      "cell_type": "code",
      "execution_count": null,
      "metadata": {
        "id": "u7Cu2i02aPQh"
      },
      "outputs": [],
      "source": [
        "# final=pd.DataFrame(text_final)"
      ]
    },
    {
      "cell_type": "code",
      "execution_count": null,
      "metadata": {
        "id": "FHLpq27paPTC"
      },
      "outputs": [],
      "source": [
        "# #Download and Unzip Greek Embeddings\n",
        "# !wget -nc http://archive.aueb.gr:8085/files/grcorpus_def.vec.gz\n",
        "# !gzip -d grcorpus_def.vec.gz"
      ]
    },
    {
      "cell_type": "code",
      "execution_count": null,
      "metadata": {
        "id": "tH5vZs33b6Un"
      },
      "outputs": [],
      "source": [
        "# #Create Embeddings Model\n",
        "# from gensim.models import KeyedVectors\n",
        "\n",
        "# fasttext = KeyedVectors.load_word2vec_format('grcorpus_def.vec')"
      ]
    },
    {
      "cell_type": "code",
      "execution_count": null,
      "metadata": {
        "id": "_KF05hwgb96u"
      },
      "outputs": [],
      "source": [
        "# #Tokenize each text\n",
        "# nltk.download('punkt')\n",
        "# import nltk\n",
        "# token=[nltk.word_tokenize(sent) for sent in final[0]]"
      ]
    },
    {
      "cell_type": "code",
      "execution_count": null,
      "metadata": {
        "id": "zaFBdkmkcD6x"
      },
      "outputs": [],
      "source": [
        "# #Calculate centroid function for embeddings\n",
        "\n",
        "# import numpy as np\n",
        "\n",
        "# def text_centroid(text, model):\n",
        "#     text_vec =[]\n",
        "#     counter = 0\n",
        "#     for word in text: \n",
        "#       try:\n",
        "#         if counter == 0:\n",
        "#           text_vec = model[word.lower()]\n",
        "#         else:\n",
        "#           text_vec = np.add(text_vec, model[word.lower()])\n",
        "#         counter+=1\n",
        "#       except:\n",
        "#         pass\n",
        "    \n",
        "#     return (np.asarray(text_vec) / counter)"
      ]
    },
    {
      "cell_type": "code",
      "execution_count": null,
      "metadata": {
        "id": "edprPJqXcGV0"
      },
      "outputs": [],
      "source": [
        "# #Create the embeddings for each domain\n",
        "# X_train_centroids = []\n",
        "# for i in range(len(token)):\n",
        "#   if len(token[i])==1:\n",
        "#     X_train_centroids.append(np.asarray([0 for i in range(300)]))\n",
        "#   else:\n",
        "#     X_train_centroids.append(text_centroid(token[i],fasttext))   \n",
        "#   print(i)"
      ]
    },
    {
      "cell_type": "code",
      "execution_count": null,
      "metadata": {
        "id": "xvpzGzQZcI8U"
      },
      "outputs": [],
      "source": [
        "# X_train_centroids=pd.DataFrame(X_train_centroids)"
      ]
    },
    {
      "cell_type": "code",
      "execution_count": null,
      "metadata": {
        "id": "hhH8A01zcNPN"
      },
      "outputs": [],
      "source": [
        "# fasttext=None\n",
        "# token=None"
      ]
    },
    {
      "cell_type": "code",
      "execution_count": null,
      "metadata": {
        "id": "0OLC0LC0cPLf"
      },
      "outputs": [],
      "source": [
        "# #Fill NAs\n",
        "# X_train_centroids.fillna('0.0',inplace=True)"
      ]
    },
    {
      "cell_type": "code",
      "execution_count": null,
      "metadata": {
        "id": "fpw4-Ps8cRPN"
      },
      "outputs": [],
      "source": [
        "# #Use SVD to reduce dimensionality\n",
        "# svd = TruncatedSVD(n_components=150)\n",
        "# X_train_centroids = svd.fit_transform(X_train_centroids)\n",
        "# X_train_centroids = pd.DataFrame(X_train_centroids)"
      ]
    },
    {
      "cell_type": "code",
      "execution_count": null,
      "metadata": {
        "id": "8X400KAwchDS"
      },
      "outputs": [],
      "source": [
        "# #Concatanate domains with embeddings\n",
        "# horizontal_stack = pd.concat([X_train,X_train_centroids],axis=1)\n",
        "# horizontal_stack = horizontal_stack.drop(['text'],axis=1)\n",
        "# horizontal_stack = horizontal_stack.drop(['category'],axis=1)"
      ]
    },
    {
      "cell_type": "code",
      "execution_count": null,
      "metadata": {
        "id": "j9GYgztCcjtw"
      },
      "outputs": [],
      "source": [
        "# #Find domains without text\n",
        "# test=[]\n",
        "# for i in pd.unique(dfgraph[['source', 'target']].values.ravel('K')):\n",
        "#   if i not in horizontal_stack.site.tolist():\n",
        "#     test.append(i)\n",
        "# test = pd.DataFrame(test,columns=['site'])"
      ]
    },
    {
      "cell_type": "code",
      "execution_count": null,
      "metadata": {
        "id": "xM5lw1Ayclxn"
      },
      "outputs": [],
      "source": [
        "# #Concatanate the domains without text\n",
        "# horizontal_stack = pd.concat([horizontal_stack,test], axis=0).reset_index(drop=True)"
      ]
    },
    {
      "cell_type": "code",
      "execution_count": null,
      "metadata": {
        "id": "nHNj67m2cnqC"
      },
      "outputs": [],
      "source": [
        "# horizontal_stack =  horizontal_stack.set_index(\"site\")"
      ]
    },
    {
      "cell_type": "code",
      "execution_count": null,
      "metadata": {
        "id": "qUOGLsazcpWd"
      },
      "outputs": [],
      "source": [
        "# #Fill NAs\n",
        "# horizontal_stack.fillna('0.0',inplace=True)"
      ]
    },
    {
      "cell_type": "markdown",
      "metadata": {
        "id": "Xe7Q_eW8Hdbh"
      },
      "source": [
        "####TFIDF+SVD"
      ]
    },
    {
      "cell_type": "code",
      "execution_count": null,
      "metadata": {
        "id": "BF2nrLv7FY7S"
      },
      "outputs": [],
      "source": [
        "#Vocabulary Size\n",
        "vectorizer = TfidfVectorizer( \n",
        "    sublinear_tf = True,\n",
        "    min_df=50,\n",
        "    max_df=300\n",
        "    )"
      ]
    },
    {
      "cell_type": "code",
      "execution_count": null,
      "metadata": {
        "id": "6T6tHJieFY9U"
      },
      "outputs": [],
      "source": [
        "#Transforming all text datasets\n",
        "x_train_tfidf = vectorizer.fit_transform(X_train.text.astype('U'))"
      ]
    },
    {
      "cell_type": "code",
      "execution_count": null,
      "metadata": {
        "id": "sO-lV3QVFY_l"
      },
      "outputs": [],
      "source": [
        "#Running an svd on our tfidf matrix\n",
        "svd = TruncatedSVD(n_components=128)\n",
        "x_train_tfidf = svd.fit_transform(x_train_tfidf)"
      ]
    },
    {
      "cell_type": "code",
      "execution_count": null,
      "metadata": {
        "id": "J5xydnZRGFeq"
      },
      "outputs": [],
      "source": [
        "#Creating a dataframe out of that matrix\n",
        "x_train_tfidf = pd.DataFrame(x_train_tfidf)"
      ]
    },
    {
      "cell_type": "code",
      "execution_count": null,
      "metadata": {
        "colab": {
          "base_uri": "https://localhost:8080/",
          "height": 424
        },
        "execution": {
          "iopub.status.busy": "2022-06-10T13:21:07.46145Z",
          "iopub.status.idle": "2022-06-10T13:21:07.462111Z",
          "shell.execute_reply": "2022-06-10T13:21:07.46189Z",
          "shell.execute_reply.started": "2022-06-10T13:21:07.461864Z"
        },
        "id": "S1WZjIje0LVs",
        "outputId": "08c1e93a-f5e7-4d61-cd5e-05a4b6b9dc94",
        "trusted": true
      },
      "outputs": [
        {
          "data": {
            "text/html": [
              "\n",
              "  <div id=\"df-93775c93-4e09-41f9-9782-87a58de61a67\">\n",
              "    <div class=\"colab-df-container\">\n",
              "      <div>\n",
              "<style scoped>\n",
              "    .dataframe tbody tr th:only-of-type {\n",
              "        vertical-align: middle;\n",
              "    }\n",
              "\n",
              "    .dataframe tbody tr th {\n",
              "        vertical-align: top;\n",
              "    }\n",
              "\n",
              "    .dataframe thead th {\n",
              "        text-align: right;\n",
              "    }\n",
              "</style>\n",
              "<table border=\"1\" class=\"dataframe\">\n",
              "  <thead>\n",
              "    <tr style=\"text-align: right;\">\n",
              "      <th></th>\n",
              "      <th>site</th>\n",
              "      <th>0</th>\n",
              "      <th>1</th>\n",
              "      <th>2</th>\n",
              "      <th>3</th>\n",
              "      <th>4</th>\n",
              "      <th>5</th>\n",
              "      <th>6</th>\n",
              "      <th>7</th>\n",
              "      <th>8</th>\n",
              "      <th>...</th>\n",
              "      <th>118</th>\n",
              "      <th>119</th>\n",
              "      <th>120</th>\n",
              "      <th>121</th>\n",
              "      <th>122</th>\n",
              "      <th>123</th>\n",
              "      <th>124</th>\n",
              "      <th>125</th>\n",
              "      <th>126</th>\n",
              "      <th>127</th>\n",
              "    </tr>\n",
              "  </thead>\n",
              "  <tbody>\n",
              "    <tr>\n",
              "      <th>0</th>\n",
              "      <td>kollintzas.gr</td>\n",
              "      <td>0.072662</td>\n",
              "      <td>-0.009557</td>\n",
              "      <td>-0.028585</td>\n",
              "      <td>-0.011985</td>\n",
              "      <td>0.011205</td>\n",
              "      <td>-0.025275</td>\n",
              "      <td>0.006074</td>\n",
              "      <td>-0.043224</td>\n",
              "      <td>0.029014</td>\n",
              "      <td>...</td>\n",
              "      <td>0.033631</td>\n",
              "      <td>0.010721</td>\n",
              "      <td>0.013655</td>\n",
              "      <td>-0.029708</td>\n",
              "      <td>0.040736</td>\n",
              "      <td>0.009818</td>\n",
              "      <td>-0.002487</td>\n",
              "      <td>0.003741</td>\n",
              "      <td>-0.038098</td>\n",
              "      <td>-0.035080</td>\n",
              "    </tr>\n",
              "    <tr>\n",
              "      <th>1</th>\n",
              "      <td>naxos.gr</td>\n",
              "      <td>0.075943</td>\n",
              "      <td>-0.008829</td>\n",
              "      <td>0.054714</td>\n",
              "      <td>0.015289</td>\n",
              "      <td>-0.004465</td>\n",
              "      <td>0.058722</td>\n",
              "      <td>0.004902</td>\n",
              "      <td>-0.024381</td>\n",
              "      <td>-0.027587</td>\n",
              "      <td>...</td>\n",
              "      <td>0.010781</td>\n",
              "      <td>0.030460</td>\n",
              "      <td>0.034632</td>\n",
              "      <td>0.003788</td>\n",
              "      <td>0.004336</td>\n",
              "      <td>-0.004801</td>\n",
              "      <td>0.016937</td>\n",
              "      <td>0.019652</td>\n",
              "      <td>-0.003459</td>\n",
              "      <td>-0.005713</td>\n",
              "    </tr>\n",
              "    <tr>\n",
              "      <th>2</th>\n",
              "      <td>auth.gr</td>\n",
              "      <td>0.057425</td>\n",
              "      <td>-0.008291</td>\n",
              "      <td>-0.020086</td>\n",
              "      <td>-0.007058</td>\n",
              "      <td>0.000556</td>\n",
              "      <td>0.004087</td>\n",
              "      <td>0.005300</td>\n",
              "      <td>-0.014624</td>\n",
              "      <td>-0.003662</td>\n",
              "      <td>...</td>\n",
              "      <td>-0.007611</td>\n",
              "      <td>-0.003491</td>\n",
              "      <td>0.005186</td>\n",
              "      <td>-0.014352</td>\n",
              "      <td>-0.002023</td>\n",
              "      <td>0.009378</td>\n",
              "      <td>0.006078</td>\n",
              "      <td>0.004449</td>\n",
              "      <td>0.003123</td>\n",
              "      <td>-0.004599</td>\n",
              "    </tr>\n",
              "    <tr>\n",
              "      <th>3</th>\n",
              "      <td>kappoutel.gr</td>\n",
              "      <td>0.049468</td>\n",
              "      <td>-0.002489</td>\n",
              "      <td>0.056557</td>\n",
              "      <td>-0.013528</td>\n",
              "      <td>0.053283</td>\n",
              "      <td>-0.059153</td>\n",
              "      <td>0.001069</td>\n",
              "      <td>-0.007126</td>\n",
              "      <td>-0.118090</td>\n",
              "      <td>...</td>\n",
              "      <td>0.012181</td>\n",
              "      <td>-0.027511</td>\n",
              "      <td>0.035698</td>\n",
              "      <td>0.011682</td>\n",
              "      <td>0.023041</td>\n",
              "      <td>0.018398</td>\n",
              "      <td>-0.044501</td>\n",
              "      <td>0.047842</td>\n",
              "      <td>0.058016</td>\n",
              "      <td>-0.002644</td>\n",
              "    </tr>\n",
              "    <tr>\n",
              "      <th>4</th>\n",
              "      <td>ilioupoli.gr</td>\n",
              "      <td>0.084352</td>\n",
              "      <td>-0.008319</td>\n",
              "      <td>-0.015764</td>\n",
              "      <td>-0.009549</td>\n",
              "      <td>0.016280</td>\n",
              "      <td>-0.022937</td>\n",
              "      <td>0.004562</td>\n",
              "      <td>-0.027724</td>\n",
              "      <td>0.022683</td>\n",
              "      <td>...</td>\n",
              "      <td>-0.012570</td>\n",
              "      <td>0.005996</td>\n",
              "      <td>-0.022468</td>\n",
              "      <td>-0.003823</td>\n",
              "      <td>-0.003425</td>\n",
              "      <td>0.015651</td>\n",
              "      <td>0.023627</td>\n",
              "      <td>0.001565</td>\n",
              "      <td>-0.021444</td>\n",
              "      <td>-0.008029</td>\n",
              "    </tr>\n",
              "    <tr>\n",
              "      <th>...</th>\n",
              "      <td>...</td>\n",
              "      <td>...</td>\n",
              "      <td>...</td>\n",
              "      <td>...</td>\n",
              "      <td>...</td>\n",
              "      <td>...</td>\n",
              "      <td>...</td>\n",
              "      <td>...</td>\n",
              "      <td>...</td>\n",
              "      <td>...</td>\n",
              "      <td>...</td>\n",
              "      <td>...</td>\n",
              "      <td>...</td>\n",
              "      <td>...</td>\n",
              "      <td>...</td>\n",
              "      <td>...</td>\n",
              "      <td>...</td>\n",
              "      <td>...</td>\n",
              "      <td>...</td>\n",
              "      <td>...</td>\n",
              "      <td>...</td>\n",
              "    </tr>\n",
              "    <tr>\n",
              "      <th>40841</th>\n",
              "      <td>zyrinis.gr</td>\n",
              "      <td>0.093804</td>\n",
              "      <td>-0.014588</td>\n",
              "      <td>-0.007501</td>\n",
              "      <td>-0.001767</td>\n",
              "      <td>-0.017518</td>\n",
              "      <td>0.020422</td>\n",
              "      <td>-0.002923</td>\n",
              "      <td>0.003237</td>\n",
              "      <td>-0.017594</td>\n",
              "      <td>...</td>\n",
              "      <td>0.004691</td>\n",
              "      <td>0.009887</td>\n",
              "      <td>0.008919</td>\n",
              "      <td>0.003005</td>\n",
              "      <td>-0.006322</td>\n",
              "      <td>-0.003128</td>\n",
              "      <td>-0.006114</td>\n",
              "      <td>0.000865</td>\n",
              "      <td>0.006893</td>\n",
              "      <td>-0.001457</td>\n",
              "    </tr>\n",
              "    <tr>\n",
              "      <th>40842</th>\n",
              "      <td>zythognosia.gr</td>\n",
              "      <td>0.052377</td>\n",
              "      <td>-0.005290</td>\n",
              "      <td>0.026027</td>\n",
              "      <td>0.004013</td>\n",
              "      <td>-0.004854</td>\n",
              "      <td>0.023479</td>\n",
              "      <td>0.005309</td>\n",
              "      <td>-0.021604</td>\n",
              "      <td>0.002593</td>\n",
              "      <td>...</td>\n",
              "      <td>-0.002143</td>\n",
              "      <td>0.000499</td>\n",
              "      <td>-0.000881</td>\n",
              "      <td>-0.003432</td>\n",
              "      <td>-0.010691</td>\n",
              "      <td>-0.008418</td>\n",
              "      <td>0.008238</td>\n",
              "      <td>-0.000581</td>\n",
              "      <td>0.028415</td>\n",
              "      <td>-0.004003</td>\n",
              "    </tr>\n",
              "    <tr>\n",
              "      <th>40843</th>\n",
              "      <td>zythos.gr</td>\n",
              "      <td>0.022158</td>\n",
              "      <td>-0.000534</td>\n",
              "      <td>0.016749</td>\n",
              "      <td>0.004064</td>\n",
              "      <td>-0.003292</td>\n",
              "      <td>0.014173</td>\n",
              "      <td>0.003705</td>\n",
              "      <td>-0.010900</td>\n",
              "      <td>-0.003574</td>\n",
              "      <td>...</td>\n",
              "      <td>-0.026580</td>\n",
              "      <td>-0.031886</td>\n",
              "      <td>0.030881</td>\n",
              "      <td>-0.065083</td>\n",
              "      <td>-0.044172</td>\n",
              "      <td>0.027423</td>\n",
              "      <td>-0.005891</td>\n",
              "      <td>-0.004388</td>\n",
              "      <td>-0.001536</td>\n",
              "      <td>-0.009922</td>\n",
              "    </tr>\n",
              "    <tr>\n",
              "      <th>40844</th>\n",
              "      <td>zzdot.gr</td>\n",
              "      <td>0.044973</td>\n",
              "      <td>0.000478</td>\n",
              "      <td>-0.001105</td>\n",
              "      <td>-0.011400</td>\n",
              "      <td>0.017881</td>\n",
              "      <td>-0.026780</td>\n",
              "      <td>0.003312</td>\n",
              "      <td>-0.026628</td>\n",
              "      <td>-0.005605</td>\n",
              "      <td>...</td>\n",
              "      <td>-0.013263</td>\n",
              "      <td>0.006602</td>\n",
              "      <td>-0.017940</td>\n",
              "      <td>-0.020143</td>\n",
              "      <td>0.023789</td>\n",
              "      <td>0.005042</td>\n",
              "      <td>0.015908</td>\n",
              "      <td>0.015172</td>\n",
              "      <td>0.006971</td>\n",
              "      <td>0.004823</td>\n",
              "    </tr>\n",
              "    <tr>\n",
              "      <th>40845</th>\n",
              "      <td>zzografos.blogspot.gr</td>\n",
              "      <td>0.045657</td>\n",
              "      <td>-0.004379</td>\n",
              "      <td>-0.010098</td>\n",
              "      <td>-0.001828</td>\n",
              "      <td>0.007340</td>\n",
              "      <td>-0.010366</td>\n",
              "      <td>0.002260</td>\n",
              "      <td>-0.019377</td>\n",
              "      <td>-0.006258</td>\n",
              "      <td>...</td>\n",
              "      <td>-0.013306</td>\n",
              "      <td>0.006993</td>\n",
              "      <td>-0.011780</td>\n",
              "      <td>0.006886</td>\n",
              "      <td>0.005450</td>\n",
              "      <td>0.012879</td>\n",
              "      <td>0.015818</td>\n",
              "      <td>0.014335</td>\n",
              "      <td>-0.009483</td>\n",
              "      <td>0.001415</td>\n",
              "    </tr>\n",
              "  </tbody>\n",
              "</table>\n",
              "<p>40846 rows × 129 columns</p>\n",
              "</div>\n",
              "      <button class=\"colab-df-convert\" onclick=\"convertToInteractive('df-93775c93-4e09-41f9-9782-87a58de61a67')\"\n",
              "              title=\"Convert this dataframe to an interactive table.\"\n",
              "              style=\"display:none;\">\n",
              "        \n",
              "  <svg xmlns=\"http://www.w3.org/2000/svg\" height=\"24px\"viewBox=\"0 0 24 24\"\n",
              "       width=\"24px\">\n",
              "    <path d=\"M0 0h24v24H0V0z\" fill=\"none\"/>\n",
              "    <path d=\"M18.56 5.44l.94 2.06.94-2.06 2.06-.94-2.06-.94-.94-2.06-.94 2.06-2.06.94zm-11 1L8.5 8.5l.94-2.06 2.06-.94-2.06-.94L8.5 2.5l-.94 2.06-2.06.94zm10 10l.94 2.06.94-2.06 2.06-.94-2.06-.94-.94-2.06-.94 2.06-2.06.94z\"/><path d=\"M17.41 7.96l-1.37-1.37c-.4-.4-.92-.59-1.43-.59-.52 0-1.04.2-1.43.59L10.3 9.45l-7.72 7.72c-.78.78-.78 2.05 0 2.83L4 21.41c.39.39.9.59 1.41.59.51 0 1.02-.2 1.41-.59l7.78-7.78 2.81-2.81c.8-.78.8-2.07 0-2.86zM5.41 20L4 18.59l7.72-7.72 1.47 1.35L5.41 20z\"/>\n",
              "  </svg>\n",
              "      </button>\n",
              "      \n",
              "  <style>\n",
              "    .colab-df-container {\n",
              "      display:flex;\n",
              "      flex-wrap:wrap;\n",
              "      gap: 12px;\n",
              "    }\n",
              "\n",
              "    .colab-df-convert {\n",
              "      background-color: #E8F0FE;\n",
              "      border: none;\n",
              "      border-radius: 50%;\n",
              "      cursor: pointer;\n",
              "      display: none;\n",
              "      fill: #1967D2;\n",
              "      height: 32px;\n",
              "      padding: 0 0 0 0;\n",
              "      width: 32px;\n",
              "    }\n",
              "\n",
              "    .colab-df-convert:hover {\n",
              "      background-color: #E2EBFA;\n",
              "      box-shadow: 0px 1px 2px rgba(60, 64, 67, 0.3), 0px 1px 3px 1px rgba(60, 64, 67, 0.15);\n",
              "      fill: #174EA6;\n",
              "    }\n",
              "\n",
              "    [theme=dark] .colab-df-convert {\n",
              "      background-color: #3B4455;\n",
              "      fill: #D2E3FC;\n",
              "    }\n",
              "\n",
              "    [theme=dark] .colab-df-convert:hover {\n",
              "      background-color: #434B5C;\n",
              "      box-shadow: 0px 1px 3px 1px rgba(0, 0, 0, 0.15);\n",
              "      filter: drop-shadow(0px 1px 2px rgba(0, 0, 0, 0.3));\n",
              "      fill: #FFFFFF;\n",
              "    }\n",
              "  </style>\n",
              "\n",
              "      <script>\n",
              "        const buttonEl =\n",
              "          document.querySelector('#df-93775c93-4e09-41f9-9782-87a58de61a67 button.colab-df-convert');\n",
              "        buttonEl.style.display =\n",
              "          google.colab.kernel.accessAllowed ? 'block' : 'none';\n",
              "\n",
              "        async function convertToInteractive(key) {\n",
              "          const element = document.querySelector('#df-93775c93-4e09-41f9-9782-87a58de61a67');\n",
              "          const dataTable =\n",
              "            await google.colab.kernel.invokeFunction('convertToInteractive',\n",
              "                                                     [key], {});\n",
              "          if (!dataTable) return;\n",
              "\n",
              "          const docLinkHtml = 'Like what you see? Visit the ' +\n",
              "            '<a target=\"_blank\" href=https://colab.research.google.com/notebooks/data_table.ipynb>data table notebook</a>'\n",
              "            + ' to learn more about interactive tables.';\n",
              "          element.innerHTML = '';\n",
              "          dataTable['output_type'] = 'display_data';\n",
              "          await google.colab.output.renderOutput(dataTable, element);\n",
              "          const docLink = document.createElement('div');\n",
              "          docLink.innerHTML = docLinkHtml;\n",
              "          element.appendChild(docLink);\n",
              "        }\n",
              "      </script>\n",
              "    </div>\n",
              "  </div>\n",
              "  "
            ],
            "text/plain": [
              "                        site         0         1         2         3  \\\n",
              "0              kollintzas.gr  0.072662 -0.009557 -0.028585 -0.011985   \n",
              "1                   naxos.gr  0.075943 -0.008829  0.054714  0.015289   \n",
              "2                    auth.gr  0.057425 -0.008291 -0.020086 -0.007058   \n",
              "3               kappoutel.gr  0.049468 -0.002489  0.056557 -0.013528   \n",
              "4               ilioupoli.gr  0.084352 -0.008319 -0.015764 -0.009549   \n",
              "...                      ...       ...       ...       ...       ...   \n",
              "40841             zyrinis.gr  0.093804 -0.014588 -0.007501 -0.001767   \n",
              "40842         zythognosia.gr  0.052377 -0.005290  0.026027  0.004013   \n",
              "40843              zythos.gr  0.022158 -0.000534  0.016749  0.004064   \n",
              "40844               zzdot.gr  0.044973  0.000478 -0.001105 -0.011400   \n",
              "40845  zzografos.blogspot.gr  0.045657 -0.004379 -0.010098 -0.001828   \n",
              "\n",
              "              4         5         6         7         8  ...       118  \\\n",
              "0      0.011205 -0.025275  0.006074 -0.043224  0.029014  ...  0.033631   \n",
              "1     -0.004465  0.058722  0.004902 -0.024381 -0.027587  ...  0.010781   \n",
              "2      0.000556  0.004087  0.005300 -0.014624 -0.003662  ... -0.007611   \n",
              "3      0.053283 -0.059153  0.001069 -0.007126 -0.118090  ...  0.012181   \n",
              "4      0.016280 -0.022937  0.004562 -0.027724  0.022683  ... -0.012570   \n",
              "...         ...       ...       ...       ...       ...  ...       ...   \n",
              "40841 -0.017518  0.020422 -0.002923  0.003237 -0.017594  ...  0.004691   \n",
              "40842 -0.004854  0.023479  0.005309 -0.021604  0.002593  ... -0.002143   \n",
              "40843 -0.003292  0.014173  0.003705 -0.010900 -0.003574  ... -0.026580   \n",
              "40844  0.017881 -0.026780  0.003312 -0.026628 -0.005605  ... -0.013263   \n",
              "40845  0.007340 -0.010366  0.002260 -0.019377 -0.006258  ... -0.013306   \n",
              "\n",
              "            119       120       121       122       123       124       125  \\\n",
              "0      0.010721  0.013655 -0.029708  0.040736  0.009818 -0.002487  0.003741   \n",
              "1      0.030460  0.034632  0.003788  0.004336 -0.004801  0.016937  0.019652   \n",
              "2     -0.003491  0.005186 -0.014352 -0.002023  0.009378  0.006078  0.004449   \n",
              "3     -0.027511  0.035698  0.011682  0.023041  0.018398 -0.044501  0.047842   \n",
              "4      0.005996 -0.022468 -0.003823 -0.003425  0.015651  0.023627  0.001565   \n",
              "...         ...       ...       ...       ...       ...       ...       ...   \n",
              "40841  0.009887  0.008919  0.003005 -0.006322 -0.003128 -0.006114  0.000865   \n",
              "40842  0.000499 -0.000881 -0.003432 -0.010691 -0.008418  0.008238 -0.000581   \n",
              "40843 -0.031886  0.030881 -0.065083 -0.044172  0.027423 -0.005891 -0.004388   \n",
              "40844  0.006602 -0.017940 -0.020143  0.023789  0.005042  0.015908  0.015172   \n",
              "40845  0.006993 -0.011780  0.006886  0.005450  0.012879  0.015818  0.014335   \n",
              "\n",
              "            126       127  \n",
              "0     -0.038098 -0.035080  \n",
              "1     -0.003459 -0.005713  \n",
              "2      0.003123 -0.004599  \n",
              "3      0.058016 -0.002644  \n",
              "4     -0.021444 -0.008029  \n",
              "...         ...       ...  \n",
              "40841  0.006893 -0.001457  \n",
              "40842  0.028415 -0.004003  \n",
              "40843 -0.001536 -0.009922  \n",
              "40844  0.006971  0.004823  \n",
              "40845 -0.009483  0.001415  \n",
              "\n",
              "[40846 rows x 129 columns]"
            ]
          },
          "execution_count": 45,
          "metadata": {},
          "output_type": "execute_result"
        }
      ],
      "source": [
        "#Concatenating the 2 dataframes\n",
        "horizontal_stack = pd.concat([X_train,x_train_tfidf],axis=1)\n",
        "horizontal_stack = horizontal_stack.drop(['text'],axis=1)\n",
        "horizontal_stack = horizontal_stack.drop(['category'],axis=1)\n",
        "horizontal_stack"
      ]
    },
    {
      "cell_type": "code",
      "execution_count": null,
      "metadata": {
        "execution": {
          "iopub.status.busy": "2022-06-10T13:21:07.469838Z",
          "iopub.status.idle": "2022-06-10T13:21:07.470487Z",
          "shell.execute_reply": "2022-06-10T13:21:07.470224Z",
          "shell.execute_reply.started": "2022-06-10T13:21:07.4702Z"
        },
        "id": "lHx1KWM00LVt",
        "trusted": true
      },
      "outputs": [],
      "source": [
        "#Creating a list that has all the other websites that have no text so we can add them to the final dataframe\n",
        "test=[]\n",
        "for i in pd.unique(dfgraph[['source', 'target']].values.ravel('K')): #For every unique website\n",
        "    #If not already in our dataframe\n",
        "    if i not in horizontal_stack.site.tolist():\n",
        "      #Append it\n",
        "        test.append(i)\n",
        "test = pd.DataFrame(test,columns=['site'])"
      ]
    },
    {
      "cell_type": "code",
      "execution_count": null,
      "metadata": {
        "execution": {
          "iopub.status.busy": "2022-06-10T13:21:07.472091Z",
          "iopub.status.idle": "2022-06-10T13:21:07.472554Z",
          "shell.execute_reply": "2022-06-10T13:21:07.47235Z",
          "shell.execute_reply.started": "2022-06-10T13:21:07.472326Z"
        },
        "id": "TBeC0EiD0LVt",
        "trusted": true
      },
      "outputs": [],
      "source": [
        "#Concatenating the two dataframes\n",
        "horizontal_stack = pd.concat([horizontal_stack,test], axis=0).reset_index(drop=True)\n",
        "#Creating a list of all sites\n",
        "all_sites = horizontal_stack.site\n",
        "#Setting website names as index\n",
        "horizontal_stack =  horizontal_stack.set_index(\"site\")\n",
        "#Filling NA values\n",
        "horizontal_stack.fillna('0.0',inplace=True)"
      ]
    },
    {
      "cell_type": "markdown",
      "metadata": {
        "id": "a5uhopmdHFyP"
      },
      "source": [
        "#### Node2Vec implementation"
      ]
    },
    {
      "cell_type": "code",
      "execution_count": null,
      "metadata": {
        "id": "m1W7_w9zHN7a"
      },
      "outputs": [],
      "source": [
        "# G = StellarGraph(\n",
        "#     {\"FinalBossDF\": horizontal_stack}, {\"Target/Source\": dfgraph}\n",
        "# )\n",
        "# print(G.info())\n",
        "\n",
        "# generator = FullBatchNodeGenerator(G, method=\"gcn\")"
      ]
    },
    {
      "cell_type": "code",
      "execution_count": null,
      "metadata": {
        "execution": {
          "iopub.status.busy": "2022-06-10T13:21:07.476613Z",
          "iopub.status.idle": "2022-06-10T13:21:07.477312Z",
          "shell.execute_reply": "2022-06-10T13:21:07.477099Z",
          "shell.execute_reply.started": "2022-06-10T13:21:07.477076Z"
        },
        "id": "EHoyWNhU0LVu",
        "trusted": true
      },
      "outputs": [],
      "source": [
        "# rw = BiasedRandomWalk(G)\n",
        "\n",
        "# walks = rw.run(\n",
        "#     nodes=list(G.nodes()),  # root nodes\n",
        "#     length=10,  # maximum length of a random walk\n",
        "#     n=10,  # number of random walks per root node\n",
        "#     p=1,  # Defines (unormalised) probability, 1/p, of returning to source node\n",
        "#     q=0.5,  # Defines (unormalised) probability, 1/q, for moving away from source node\n",
        "# )\n",
        "# print(\"Number of random walks: {}\".format(len(walks)))"
      ]
    },
    {
      "cell_type": "code",
      "execution_count": null,
      "metadata": {
        "execution": {
          "iopub.status.busy": "2022-06-10T13:21:07.478499Z",
          "iopub.status.idle": "2022-06-10T13:21:07.479181Z",
          "shell.execute_reply": "2022-06-10T13:21:07.478971Z",
          "shell.execute_reply.started": "2022-06-10T13:21:07.478947Z"
        },
        "id": "oR7vNfTj0LVu",
        "trusted": true
      },
      "outputs": [],
      "source": [
        "# from gensim.models import Word2Vec\n",
        "\n",
        "# str_walks = [[n for n in walk] for walk in walks]\n",
        "# model = Word2Vec(str_walks, size=128, window=5, min_count=0, sg=1, workers=4, iter=10)\n",
        "\n",
        "# node_ids = model.wv.index2word  # list of node IDs\n",
        "# node_embeddings = (\n",
        "#     model.wv.vectors\n",
        "# )"
      ]
    },
    {
      "cell_type": "code",
      "execution_count": null,
      "metadata": {
        "execution": {
          "iopub.status.busy": "2022-06-10T13:21:07.480363Z",
          "iopub.status.idle": "2022-06-10T13:21:07.481047Z",
          "shell.execute_reply": "2022-06-10T13:21:07.480837Z",
          "shell.execute_reply.started": "2022-06-10T13:21:07.480813Z"
        },
        "id": "A4lF_N1Q0LVv",
        "trusted": true
      },
      "outputs": [],
      "source": [
        "# node_2_vec_df = pd.read_csv('/content/drive/MyDrive/DataChallenge/3Node_Embeddings_True.15.15.1.05.csv',quoting = csv.QUOTE_NONNUMERIC,delimiter=',',header=None)"
      ]
    },
    {
      "cell_type": "code",
      "execution_count": null,
      "metadata": {
        "id": "J7j5Jb4SgApo"
      },
      "outputs": [],
      "source": [
        "# node_2_vec_df = pd.read_csv('/content/drive/MyDrive/DataChallenge/3Node_Embeddings_True.15.15.1.05.csv',quoting = csv.QUOTE_NONNUMERIC,delimiter=',')"
      ]
    },
    {
      "cell_type": "code",
      "execution_count": null,
      "metadata": {
        "id": "KIr5DyEFfoTW"
      },
      "outputs": [],
      "source": [
        "# node_2_vec_df\n",
        "# node_2_vec_df = node_2_vec_df.set_index(\"site\")\n",
        "\n",
        "# horizontal_stack = pd.concat([horizontal_stack, node_2_vec_df], axis=1)"
      ]
    },
    {
      "cell_type": "code",
      "execution_count": null,
      "metadata": {
        "id": "2vvAw9NsgZSa"
      },
      "outputs": [],
      "source": [
        "# node_2_vec_df"
      ]
    },
    {
      "cell_type": "code",
      "execution_count": null,
      "metadata": {
        "execution": {
          "iopub.status.busy": "2022-06-10T13:21:07.482247Z",
          "iopub.status.idle": "2022-06-10T13:21:07.483008Z",
          "shell.execute_reply": "2022-06-10T13:21:07.48276Z",
          "shell.execute_reply.started": "2022-06-10T13:21:07.482736Z"
        },
        "id": "q2FAlCcM0LVv",
        "trusted": true
      },
      "outputs": [],
      "source": [
        "# # node_2_vec_df = pd.DataFrame(node_embeddings)\n",
        "\n",
        "# node_2_vec_df = pd.concat([all_sites,node_2_vec_df], axis=1).reset_index(drop=True)\n",
        "\n",
        "# node_2_vec_df = node_2_vec_df.set_index(\"site\")\n",
        "\n",
        "# node_2_vec_df = node_2_vec_df.add_prefix('n2v_')\n",
        "\n",
        "# node_2_vec_df\n",
        "\n",
        "# horizontal_stack = pd.concat([horizontal_stack, node_2_vec_df], axis=1)\n"
      ]
    },
    {
      "cell_type": "code",
      "execution_count": null,
      "metadata": {
        "id": "mKglm6jifCUE"
      },
      "outputs": [],
      "source": [
        "# horizontal_stack"
      ]
    },
    {
      "cell_type": "code",
      "execution_count": null,
      "metadata": {
        "id": "dmAyVnSR-VVR"
      },
      "outputs": [],
      "source": [
        "# node_2_vec_df.to_csv('3Node_Embeddings_True.15.15.1.05')"
      ]
    },
    {
      "cell_type": "markdown",
      "metadata": {
        "id": "TpyzuonKHKBS"
      },
      "source": [
        "#### Model Building"
      ]
    },
    {
      "cell_type": "code",
      "execution_count": null,
      "metadata": {
        "colab": {
          "base_uri": "https://localhost:8080/"
        },
        "execution": {
          "iopub.status.busy": "2022-06-10T13:21:07.484203Z",
          "iopub.status.idle": "2022-06-10T13:21:07.484901Z",
          "shell.execute_reply": "2022-06-10T13:21:07.484664Z",
          "shell.execute_reply.started": "2022-06-10T13:21:07.484639Z"
        },
        "id": "GO9wjzM00LVv",
        "outputId": "6d308fba-5984-4305-ddc2-d7d6b1298d2e",
        "trusted": true
      },
      "outputs": [
        {
          "name": "stdout",
          "output_type": "stream",
          "text": [
            "StellarGraph: Undirected multigraph\n",
            " Nodes: 65208, Edges: 1642073\n",
            "\n",
            " Node types:\n",
            "  FinalBossDF: [65208]\n",
            "    Features: float32 vector, length 128\n",
            "    Edge types: FinalBossDF-Target/Source->FinalBossDF\n",
            "\n",
            " Edge types:\n",
            "    FinalBossDF-Target/Source->FinalBossDF: [1642073]\n",
            "        Weights: all 1 (default)\n",
            "        Features: none\n",
            "Using GCN (local pooling) filters...\n"
          ]
        }
      ],
      "source": [
        "G = StellarGraph(\n",
        "    {\"FinalBossDF\": horizontal_stack}, {\"Target/Source\": dfgraph}\n",
        ")\n",
        "print(G.info())\n",
        "\n",
        "generator = FullBatchNodeGenerator(G, method=\"gcn\")"
      ]
    },
    {
      "cell_type": "code",
      "execution_count": null,
      "metadata": {
        "colab": {
          "base_uri": "https://localhost:8080/",
          "height": 297
        },
        "execution": {
          "iopub.status.busy": "2022-06-10T13:21:07.486259Z",
          "iopub.status.idle": "2022-06-10T13:21:07.487005Z",
          "shell.execute_reply": "2022-06-10T13:21:07.486769Z",
          "shell.execute_reply.started": "2022-06-10T13:21:07.486746Z"
        },
        "id": "46WC3_2e0LVw",
        "outputId": "a6807cf3-cdee-4f9e-9ab6-6a4239a9ce6d",
        "trusted": true
      },
      "outputs": [
        {
          "data": {
            "image/png": "[encoded data removed]",
            "text/plain": [
              "<Figure size 504x288 with 1 Axes>"
            ]
          },
          "metadata": {
            "needs_background": "light"
          },
          "output_type": "display_data"
        }
      ],
      "source": [
        "#Deep Graph Infomax\n",
        "\n",
        "from stellargraph.mapper import CorruptedGenerator, FullBatchNodeGenerator\n",
        "from stellargraph.layer import GCN, DeepGraphInfomax\n",
        "from tensorflow.keras import Model, layers, optimizers, callbacks\n",
        "\n",
        "corrupted_generator = CorruptedGenerator(generator)\n",
        "gen = corrupted_generator.flow(G.nodes())\n",
        "\n",
        "def make_gcn_model():\n",
        "    # function because we want to create a second one with the same parameters later\n",
        "    return GCN(\n",
        "        layer_sizes=[32,32],\n",
        "        activations=[\"relu\", \"relu\"],\n",
        "        generator=generator,\n",
        "        dropout=0.5,\n",
        "    )\n",
        "\n",
        "\n",
        "pretrained_gcn_model = make_gcn_model()\n",
        "\n",
        "infomax = DeepGraphInfomax(pretrained_gcn_model, corrupted_generator)\n",
        "x_in, x_out = infomax.in_out_tensors()\n",
        "\n",
        "dgi_model = Model(inputs=x_in, outputs=x_out)\n",
        "dgi_model.compile(\n",
        "    loss=losses.categorical_crossentropy, optimizer=optimizers.Adam(lr=1e-2)\n",
        ")\n",
        "\n",
        "epochs = 1000\n",
        "\n",
        "dgi_es = callbacks.EarlyStopping(monitor=\"loss\", patience=50, restore_best_weights=True)\n",
        "\n",
        "dgi_history = dgi_model.fit(gen, epochs=epochs, verbose=0, callbacks=dgi_es)\n",
        "\n",
        "sg.utils.plot_history(dgi_history)"
      ]
    },
    {
      "cell_type": "code",
      "execution_count": null,
      "metadata": {
        "id": "cExRyrL61DLC"
      },
      "outputs": [],
      "source": [
        "# # Read training data\n",
        "# train_domains = list()\n",
        "# y_train = list()\n",
        "# with open(\"/content/drive/MyDrive/DataChallenge/train.txt\", 'r') as f:\n",
        "#     for line in f:\n",
        "#         l = line.split(',')\n",
        "#         train_domains.append(l[0])\n",
        "#         y_train.append(l[1][:-1])\n",
        "\n",
        "# # Read test data\n",
        "# test_domains = list()\n",
        "# with open(\"/content/drive/MyDrive/DataChallenge/test.txt\", 'r') as f:\n",
        "#     for line in f:\n",
        "#         l = line.split(',')\n",
        "#         test_domains.append(l[0])"
      ]
    },
    {
      "cell_type": "code",
      "execution_count": null,
      "metadata": {
        "execution": {
          "iopub.status.busy": "2022-06-10T13:21:07.491911Z",
          "iopub.status.idle": "2022-06-10T13:21:07.492589Z",
          "shell.execute_reply": "2022-06-10T13:21:07.492379Z",
          "shell.execute_reply.started": "2022-06-10T13:21:07.492356Z"
        },
        "id": "jCSHgpi60LVx",
        "trusted": true
      },
      "outputs": [],
      "source": [
        "#Changing Y values from 1 number to categorical\n",
        "y_train = tf.keras.utils.to_categorical(y_train,num_classes=10, dtype='float32')\n",
        "\n",
        "y_dev = tf.keras.utils.to_categorical(y_dev,num_classes=10, dtype='float32')\n",
        "\n",
        "#Creating train and val gen so they can be fitted into our StellarGraph GCN\n",
        "train_gen = generator.flow(x_train, y_train)\n",
        "val_gen = generator.flow(x_dev,y_dev)"
      ]
    },
    {
      "cell_type": "code",
      "execution_count": null,
      "metadata": {
        "execution": {
          "iopub.status.busy": "2022-06-10T13:21:07.493965Z",
          "iopub.status.idle": "2022-06-10T13:21:07.49462Z",
          "shell.execute_reply": "2022-06-10T13:21:07.494408Z",
          "shell.execute_reply.started": "2022-06-10T13:21:07.494385Z"
        },
        "id": "HB8lD0t70LVx",
        "trusted": true
      },
      "outputs": [],
      "source": [
        "#Initializing GCN with 2 layers of 32 units each\n",
        "#Relu being the activation function for both(Both followed by a drop-out layer to avoid overfitting)\n",
        "#Our last layer consists of 10 nodes(As many as our classes) and the activation function is a softmax so we get a\n",
        "#probability distribution for the 10 classes.Loss is categorical crossentropy/Same as the loss calculated in the challenge\n",
        "gcn = GCN(\n",
        "    layer_sizes=[32,32], activations=[\"relu\",\"relu\"], generator=generator, dropout=0.5\n",
        ")\n",
        "pretrained_x_in, pretrained_x_out = pretrained_gcn_model.in_out_tensors()\n",
        "\n",
        "predictions = layers.Dense(units=10, activation=\"softmax\")(pretrained_x_out)\n",
        "\n",
        "model = Model(inputs=pretrained_x_in, outputs=predictions)\n",
        "\n",
        "model.compile(\n",
        "    optimizer=optimizers.Adam(lr=0.01),\n",
        "    loss=losses.categorical_crossentropy,\n",
        "    metrics=['acc']\n",
        ")\n",
        "\n",
        "#Initializing early-stopping\n",
        "stop_early = tf.keras.callbacks.EarlyStopping(monitor='val_loss', patience=100,restore_best_weights=True)"
      ]
    },
    {
      "cell_type": "code",
      "execution_count": null,
      "metadata": {
        "id": "-QlG7BfJPTnK"
      },
      "outputs": [],
      "source": [
        "#Splitting\n",
        "x_train,x_dev,y_train,y_dev = train_test_split(train_domains,y_train,stratify=y_train,random_state=0,test_size=0.2)"
      ]
    },
    {
      "cell_type": "code",
      "execution_count": null,
      "metadata": {
        "id": "YNtLI-RD3-kK"
      },
      "outputs": [],
      "source": [
        "# del model"
      ]
    },
    {
      "cell_type": "code",
      "execution_count": null,
      "metadata": {
        "_kg_hide-output": true,
        "colab": {
          "base_uri": "https://localhost:8080/",
          "height": 241
        },
        "execution": {
          "iopub.status.busy": "2022-06-10T13:21:07.499556Z",
          "iopub.status.idle": "2022-06-10T13:21:07.500248Z",
          "shell.execute_reply": "2022-06-10T13:21:07.500038Z",
          "shell.execute_reply.started": "2022-06-10T13:21:07.500014Z"
        },
        "id": "qZWdY5lR0LVy",
        "outputId": "859d887f-1c4c-4a7c-f26f-e2d9b0d0efd1",
        "scrolled": true,
        "trusted": true
      },
      "outputs": [],
      "source": [
        "history = model.fit(\n",
        "    train_gen,\n",
        "    epochs=1000,\n",
        "    validation_data=val_gen,\n",
        "    shuffle=False,  # This should be False, since shuffling data means shuffling the whole graph\n",
        "    callbacks=stop_early\n",
        ")"
      ]
    },
    {
      "cell_type": "code",
      "execution_count": null,
      "metadata": {
        "colab": {
          "base_uri": "https://localhost:8080/",
          "height": 585
        },
        "execution": {
          "iopub.status.busy": "2022-06-10T13:21:07.501428Z",
          "iopub.status.idle": "2022-06-10T13:21:07.502103Z",
          "shell.execute_reply": "2022-06-10T13:21:07.501896Z",
          "shell.execute_reply.started": "2022-06-10T13:21:07.501872Z"
        },
        "id": "UwYwpeiv0LVy",
        "outputId": "c337f33f-679a-44e3-ddc0-7fffcb208d2f",
        "trusted": true
      },
      "outputs": [
        {
          "data": {
            "image/png": "[encoded data removed]",
            "text/plain": [
              "<Figure size 504x576 with 2 Axes>"
            ]
          },
          "metadata": {
            "needs_background": "light"
          },
          "output_type": "display_data"
        }
      ],
      "source": [
        "# Make predictions\n",
        "predict_gen = generator.flow(test_domains)\n",
        "y_pred = model.predict(predict_gen)\n",
        "sg.utils.plot_history(history)"
      ]
    },
    {
      "cell_type": "code",
      "execution_count": null,
      "metadata": {
        "id": "sXxVailC7LaR"
      },
      "outputs": [],
      "source": [
        "predict_val_gen = generator.flow(x_dev)\n",
        "y_dev_pred2 = model.predict(predict_val_gen)\n",
        "y_dev_pred2 = y_dev_pred2[0]\n",
        "\n",
        "y_dev2=[]\n",
        "for i in range(len(y_dev)):\n",
        "  y_dev2.append(np.argmax(y_dev[i]))\n",
        "\n",
        "y_dev_pred=[]\n",
        "for i in range(len(y_dev_pred2)):\n",
        "  y_dev_pred.append(np.argmax(y_dev_pred2[i]))"
      ]
    },
    {
      "cell_type": "code",
      "execution_count": null,
      "metadata": {
        "colab": {
          "base_uri": "https://localhost:8080/",
          "height": 404
        },
        "id": "8hk8MR0gSzfq",
        "outputId": "5fe757c0-366d-4e5a-9ebe-dd81bed24aa1"
      },
      "outputs": [
        {
          "data": {
            "image/png": "[encoded data removed]",
            "text/plain": [
              "<Figure size 720x432 with 2 Axes>"
            ]
          },
          "metadata": {
            "needs_background": "light"
          },
          "output_type": "display_data"
        }
      ],
      "source": [
        "mat = confusion_matrix(y_dev2, y_dev_pred)\n",
        "plt.figure(figsize = (10,6))\n",
        "ax= plt.subplot()\n",
        "sns.heatmap(mat, annot=True, fmt='g', cmap = 'Blues')\n",
        "ax.set_xlabel('Model Prediction')\n",
        "ax.set_ylabel('Correct classification'); \n",
        "ax.set_title('MLP Confusion Matrix')\n",
        "ax.xaxis.set_ticklabels(range(0,10))\n",
        "ax.yaxis.set_ticklabels(range(0,10))\n",
        "plt.yticks(rotation=0)\n",
        "plt.show()"
      ]
    },
    {
      "cell_type": "code",
      "execution_count": null,
      "metadata": {
        "colab": {
          "base_uri": "https://localhost:8080/",
          "height": 404
        },
        "id": "1JBHEeN1S-q0",
        "outputId": "6678aad3-18c4-4032-8abc-c8bfc21a31c3"
      },
      "outputs": [
        {
          "data": {
            "image/png": "[encoded data removed]",
            "text/plain": [
              "<Figure size 720x432 with 2 Axes>"
            ]
          },
          "metadata": {
            "needs_background": "light"
          },
          "output_type": "display_data"
        }
      ],
      "source": [
        "mat_perc = 100*(mat / mat.sum(axis=1))\n",
        "plt.figure(figsize = (10,6))\n",
        "ax= plt.subplot()\n",
        "sns.heatmap(mat_perc, annot=True, fmt='g', cmap = 'PuBuGn')\n",
        "ax.set_xlabel('Model Prediction')\n",
        "ax.set_ylabel('Correct classification'); \n",
        "ax.set_title('MLP Percentage Confusion Matrix')\n",
        "ax.xaxis.set_ticklabels(range(0,10))\n",
        "ax.yaxis.set_ticklabels(range(0,10))\n",
        "plt.yticks(rotation=0)\n",
        "plt.show()"
      ]
    },
    {
      "cell_type": "code",
      "execution_count": null,
      "metadata": {
        "id": "VFXq0WvbG_bc"
      },
      "outputs": [],
      "source": [
        "# Write predictions to a file\n",
        "with open('Submisssss.csv', 'w') as csvfile:\n",
        "    writer = csv.writer(csvfile, delimiter=',')\n",
        "    lst = list()\n",
        "    for i in range(10):\n",
        "        lst.append('class_'+str(i))\n",
        "    lst.insert(0, \"domain_name\")\n",
        "    writer.writerow(lst)\n",
        "    for i,test_host in enumerate(test_domains):\n",
        "        lst = y_pred[0][i,:].tolist()\n",
        "        lst.insert(0, test_host)\n",
        "        writer.writerow(lst)"
      ]
    }
  ],
  "metadata": {
    "colab": {
      "collapsed_sections": [
        "yLuf11ohHoiK",
        "5sVOs6wPGQ96",
        "NMHJmXQiJhcO",
        "2rIV8pN7KMRW",
        "Xe7Q_eW8Hdbh",
        "a5uhopmdHFyP",
        "TpyzuonKHKBS"
      ],
      "name": "FinalCodeDataScienceChallenge.ipynb",
      "provenance": []
    },
    "kernelspec": {
      "display_name": "Python 3",
      "name": "python3"
    },
    "language_info": {
      "name": "python"
    }
  },
  "nbformat": 4,
  "nbformat_minor": 0
}
